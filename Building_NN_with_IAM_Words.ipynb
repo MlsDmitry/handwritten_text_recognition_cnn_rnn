{
  "nbformat": 4,
  "nbformat_minor": 0,
  "metadata": {
    "kernelspec": {
      "display_name": "Python 3",
      "name": "python3"
    },
    "language_info": {
      "codemirror_mode": {
        "name": "ipython",
        "version": 3
      },
      "file_extension": ".py",
      "mimetype": "text/x-python",
      "name": "python",
      "nbconvert_exporter": "python",
      "pygments_lexer": "ipython3",
      "version": "3.6.10"
    },
    "colab": {
      "name": "Building NN with IAM-Words.ipynb",
      "provenance": [],
      "gpuType": "V28"
    },
    "accelerator": "TPU"
  },
  "cells": [
    {
      "cell_type": "markdown",
      "metadata": {
        "id": "G6wkjBfN9Dnn"
      },
      "source": [
        "## **Handwritten Text Recognition**\n",
        "\n",
        "---\n",
        "Handwritten Text Recognition with Tensorflow2 & Keras & IAM Dataset.\n",
        "\n",
        "Convolutional Recurrent Neural Network. CTC.\n",
        "\n",
        "Author : Aditya Raj\n",
        "\n",
        "\n",
        "\n",
        "-\n",
        "\n",
        "\n",
        "\n",
        "\n",
        "\n",
        "\n",
        "## Dataset used:\n",
        "\n",
        "\n",
        "Data: [IAM Dataset](http://www.fki.inf.unibe.ch/databases/iam-handwriting-database/download-the-iam-handwriting-database)\n",
        "\n",
        "Used in this project: [words.tgz](http://www.fki.inf.unibe.ch/DBs/iamDB/data/words/)\n"
      ]
    },
    {
      "cell_type": "code",
      "source": [
        "!pip install tqdm keras-tqdm"
      ],
      "metadata": {
        "id": "LhR2yOl5PI4y",
        "colab": {
          "base_uri": "https://localhost:8080/"
        },
        "outputId": "a0b27fe0-f42e-40b0-e041-993c03d4102d"
      },
      "execution_count": 4,
      "outputs": [
        {
          "output_type": "stream",
          "name": "stdout",
          "text": [
            "Requirement already satisfied: tqdm in /usr/local/lib/python3.10/dist-packages (4.66.5)\n",
            "Requirement already satisfied: keras-tqdm in /usr/local/lib/python3.10/dist-packages (2.0.1)\n",
            "Requirement already satisfied: Keras in /usr/local/lib/python3.10/dist-packages (from keras-tqdm) (2.15.0)\n"
          ]
        }
      ]
    },
    {
      "cell_type": "code",
      "source": [
        "# from requests import Session\n",
        "# from tqdm import tqdm\n",
        "\n",
        "# s = Session()\n",
        "# s.headers.update({'Cookie': 'session=.eJw1yz0OwjAMBtC7eG7aigkycZUPbCUWSYzyQ0GIu1MG9vfeJBmayFO2ZDd76DXOrBnnFwrLc66DJkpo_Y4gO1sYHRc0aQvbVpKBXY_iFNnFvWxVu5bg_uy3LQRhLeR7HTLRaFKVyR9Ph3X9fAEDvS4u.ZwAN8w.KjhKaUXRb0DPwqeZA7Sli08VMdE'})\n",
        "\n",
        "# response = s.get('https://fki.tic.heia-fr.ch/DBs/iamDB/data/words.tgz', stream=True)\n",
        "\n",
        "# total_size = int(response.headers.get(\"content-length\", 0))\n",
        "# block_size = 1024\n",
        "\n",
        "# with tqdm(total=total_size, unit=\"B\", unit_scale=True) as progress_bar:\n",
        "#     with open('words.tgz', \"wb\") as file:\n",
        "#         for data in response.iter_content(block_size):\n",
        "#             progress_bar.update(len(data))\n",
        "#             file.write(data)\n",
        "\n",
        "# if total_size != 0 and progress_bar.n != total_size:\n",
        "#     raise RuntimeError(\"Could not download file\")\n"
      ],
      "metadata": {
        "id": "kah2n577PM4G"
      },
      "execution_count": 5,
      "outputs": []
    },
    {
      "cell_type": "code",
      "source": [
        "import os\n",
        "\n",
        "print(str(round(os.stat('words.tgz').st_size / 1024 / 1024, 2)) + 'Mb')"
      ],
      "metadata": {
        "id": "_Hf_3EMgTaSd",
        "outputId": "ee8d60bd-2cef-4ee4-95a7-52571b653dc8",
        "colab": {
          "base_uri": "https://localhost:8080/"
        }
      },
      "execution_count": 6,
      "outputs": [
        {
          "output_type": "stream",
          "name": "stdout",
          "text": [
            "125.03Mb\n"
          ]
        }
      ]
    },
    {
      "cell_type": "code",
      "metadata": {
        "id": "yEpi6Db8b80B"
      },
      "source": [
        "import numpy as np\n",
        "import cv2\n",
        "import os\n",
        "import pandas as pd\n",
        "import string\n",
        "import matplotlib.pyplot as plt\n",
        "\n",
        "from keras.preprocessing.sequence import pad_sequences\n",
        "\n",
        "from keras.layers import Dense, LSTM, Reshape, BatchNormalization, Input, Conv2D, MaxPool2D, Lambda, Bidirectional\n",
        "from keras.models import Model\n",
        "from keras.activations import relu, sigmoid, softmax\n",
        "import keras.backend as K\n",
        "from keras.utils import to_categorical\n",
        "from keras.callbacks import ModelCheckpoint\n",
        "from keras_tqdm import TQDMNotebookCallback\n",
        "\n",
        "from sklearn.model_selection import train_test_split\n",
        "from sklearn.preprocessing import MinMaxScaler"
      ],
      "execution_count": 7,
      "outputs": []
    },
    {
      "cell_type": "code",
      "metadata": {
        "id": "49o1bb8jb80K"
      },
      "source": [
        "import tensorflow as tf\n",
        "\n",
        "#ignore warnings in the output\n",
        "tf.compat.v1.logging.set_verbosity(tf.compat.v1.logging.ERROR)"
      ],
      "execution_count": 8,
      "outputs": []
    },
    {
      "cell_type": "code",
      "metadata": {
        "id": "PTzusk-Nb80N",
        "colab": {
          "base_uri": "https://localhost:8080/"
        },
        "outputId": "fd9de2c3-c9d2-47f5-cbcc-a6b026327a38"
      },
      "source": [
        "from tensorflow.python.client import device_lib\n",
        "\n",
        "# Check all available devices if GPU is available\n",
        "print(device_lib.list_local_devices())\n",
        "sess = tf.compat.v1.Session(config=tf.compat.v1.ConfigProto(log_device_placement=True))"
      ],
      "execution_count": 9,
      "outputs": [
        {
          "output_type": "stream",
          "name": "stdout",
          "text": [
            "[name: \"/device:CPU:0\"\n",
            "device_type: \"CPU\"\n",
            "memory_limit: 268435456\n",
            "locality {\n",
            "}\n",
            "incarnation: 12438531548509485953\n",
            "xla_global_id: -1\n",
            ", name: \"/device:TPU_SYSTEM:0\"\n",
            "device_type: \"TPU_SYSTEM\"\n",
            "memory_limit: 8589934592\n",
            "locality {\n",
            "}\n",
            "incarnation: 12940153592249398075\n",
            "physical_device_desc: \"device: TPU_SYSTEM device\"\n",
            "xla_global_id: -1\n",
            ", name: \"/device:TPU:0\"\n",
            "device_type: \"TPU\"\n",
            "memory_limit: 17179869184\n",
            "locality {\n",
            "}\n",
            "incarnation: 10396392055469016097\n",
            "physical_device_desc: \"device: TPU device\"\n",
            "xla_global_id: -1\n",
            ", name: \"/device:TPU:1\"\n",
            "device_type: \"TPU\"\n",
            "memory_limit: 17179869184\n",
            "locality {\n",
            "}\n",
            "incarnation: 2965149010298001049\n",
            "physical_device_desc: \"device: TPU device\"\n",
            "xla_global_id: -1\n",
            ", name: \"/device:TPU:2\"\n",
            "device_type: \"TPU\"\n",
            "memory_limit: 17179869184\n",
            "locality {\n",
            "}\n",
            "incarnation: 13364761517407516596\n",
            "physical_device_desc: \"device: TPU device\"\n",
            "xla_global_id: -1\n",
            ", name: \"/device:TPU:3\"\n",
            "device_type: \"TPU\"\n",
            "memory_limit: 17179869184\n",
            "locality {\n",
            "}\n",
            "incarnation: 7368624470640517564\n",
            "physical_device_desc: \"device: TPU device\"\n",
            "xla_global_id: -1\n",
            ", name: \"/device:TPU:4\"\n",
            "device_type: \"TPU\"\n",
            "memory_limit: 17179869184\n",
            "locality {\n",
            "}\n",
            "incarnation: 6475285671505397577\n",
            "physical_device_desc: \"device: TPU device\"\n",
            "xla_global_id: -1\n",
            ", name: \"/device:TPU:5\"\n",
            "device_type: \"TPU\"\n",
            "memory_limit: 17179869184\n",
            "locality {\n",
            "}\n",
            "incarnation: 17180680241440690722\n",
            "physical_device_desc: \"device: TPU device\"\n",
            "xla_global_id: -1\n",
            ", name: \"/device:TPU:6\"\n",
            "device_type: \"TPU\"\n",
            "memory_limit: 17179869184\n",
            "locality {\n",
            "}\n",
            "incarnation: 12980900214893684233\n",
            "physical_device_desc: \"device: TPU device\"\n",
            "xla_global_id: -1\n",
            ", name: \"/device:TPU:7\"\n",
            "device_type: \"TPU\"\n",
            "memory_limit: 17179869184\n",
            "locality {\n",
            "}\n",
            "incarnation: 13791581435988285634\n",
            "physical_device_desc: \"device: TPU device\"\n",
            "xla_global_id: -1\n",
            "]\n",
            "Device mapping:\n",
            "/job:localhost/replica:0/task:0/device:TPU:0 -> device: TPU device\n",
            "/job:localhost/replica:0/task:0/device:TPU:1 -> device: TPU device\n",
            "/job:localhost/replica:0/task:0/device:TPU:2 -> device: TPU device\n",
            "/job:localhost/replica:0/task:0/device:TPU:3 -> device: TPU device\n",
            "/job:localhost/replica:0/task:0/device:TPU:4 -> device: TPU device\n",
            "/job:localhost/replica:0/task:0/device:TPU:5 -> device: TPU device\n",
            "/job:localhost/replica:0/task:0/device:TPU:6 -> device: TPU device\n",
            "/job:localhost/replica:0/task:0/device:TPU:7 -> device: TPU device\n",
            "/job:localhost/replica:0/task:0/device:TPU_SYSTEM:0 -> device: TPU_SYSTEM device\n",
            "\n"
          ]
        }
      ]
    },
    {
      "cell_type": "code",
      "metadata": {
        "id": "wutENcFKb80S",
        "colab": {
          "base_uri": "https://localhost:8080/"
        },
        "outputId": "11e1298e-7ad6-4d31-842c-8f8565f776d0"
      },
      "source": [
        "tf.config.experimental.list_physical_devices('TPU')"
      ],
      "execution_count": 10,
      "outputs": [
        {
          "output_type": "execute_result",
          "data": {
            "text/plain": [
              "[PhysicalDevice(name='/physical_device:TPU:0', device_type='TPU'),\n",
              " PhysicalDevice(name='/physical_device:TPU:1', device_type='TPU'),\n",
              " PhysicalDevice(name='/physical_device:TPU:2', device_type='TPU'),\n",
              " PhysicalDevice(name='/physical_device:TPU:3', device_type='TPU'),\n",
              " PhysicalDevice(name='/physical_device:TPU:4', device_type='TPU'),\n",
              " PhysicalDevice(name='/physical_device:TPU:5', device_type='TPU'),\n",
              " PhysicalDevice(name='/physical_device:TPU:6', device_type='TPU'),\n",
              " PhysicalDevice(name='/physical_device:TPU:7', device_type='TPU')]"
            ]
          },
          "metadata": {},
          "execution_count": 10
        }
      ]
    },
    {
      "cell_type": "code",
      "source": [
        "resolver = tf.distribute.cluster_resolver.TPUClusterResolver(tpu='local')\n",
        "tf.config.experimental_connect_to_cluster(resolver)\n",
        "# This is the TPU initialization code that has to be at the beginning.\n",
        "tf.tpu.experimental.initialize_tpu_system(resolver)\n",
        "print(\"All devices: \", tf.config.list_logical_devices('TPU'))"
      ],
      "metadata": {
        "colab": {
          "base_uri": "https://localhost:8080/"
        },
        "id": "CRzqTnMXceLi",
        "outputId": "f0dec2e0-657c-484c-8c6a-c4fdcd5b8530"
      },
      "execution_count": 11,
      "outputs": [
        {
          "output_type": "stream",
          "name": "stdout",
          "text": [
            "All devices:  [LogicalDevice(name='/device:TPU:0', device_type='TPU'), LogicalDevice(name='/device:TPU:1', device_type='TPU'), LogicalDevice(name='/device:TPU:2', device_type='TPU'), LogicalDevice(name='/device:TPU:3', device_type='TPU'), LogicalDevice(name='/device:TPU:4', device_type='TPU'), LogicalDevice(name='/device:TPU:5', device_type='TPU'), LogicalDevice(name='/device:TPU:6', device_type='TPU'), LogicalDevice(name='/device:TPU:7', device_type='TPU')]\n"
          ]
        }
      ]
    },
    {
      "cell_type": "code",
      "source": [
        "strategy = tf.distribute.TPUStrategy(resolver)"
      ],
      "metadata": {
        "id": "WJ-ViooHdFgZ"
      },
      "execution_count": 12,
      "outputs": []
    },
    {
      "cell_type": "code",
      "metadata": {
        "id": "KACoa610ncRp"
      },
      "source": [
        "# from google.colab import drive\n",
        "# drive.mount('/content/gdrive')"
      ],
      "execution_count": 14,
      "outputs": []
    },
    {
      "cell_type": "code",
      "metadata": {
        "id": "6rlKnii9b80V",
        "colab": {
          "base_uri": "https://localhost:8080/",
          "height": 35
        },
        "outputId": "bf2ecf4e-bc41-4db5-bd8a-fb64919a7ccd"
      },
      "source": [
        "with open('./words.txt') as f:\n",
        "    contents = f.readlines()\n",
        "\n",
        "lines = [line.strip() for line in contents]\n",
        "lines = lines[18:]\n",
        "lines[0]"
      ],
      "execution_count": 15,
      "outputs": [
        {
          "output_type": "execute_result",
          "data": {
            "text/plain": [
              "'a01-000u-00-00 ok 154 408 768 27 51 AT A'"
            ],
            "application/vnd.google.colaboratory.intrinsic+json": {
              "type": "string"
            }
          },
          "metadata": {},
          "execution_count": 15
        }
      ]
    },
    {
      "cell_type": "code",
      "source": [
        "\n",
        "#  # importing the \"tarfile\" module\n",
        "# import tarfile\n",
        "\n",
        "# # open file\n",
        "# file = tarfile.open('words.tgz')\n",
        "\n",
        "# # extracting file\n",
        "# file.extractall('./words')\n",
        "\n",
        "# file.close()"
      ],
      "metadata": {
        "id": "pEhRdvfra6NS"
      },
      "execution_count": 16,
      "outputs": []
    },
    {
      "cell_type": "code",
      "metadata": {
        "id": "tlecbas7b80Z",
        "colab": {
          "base_uri": "https://localhost:8080/"
        },
        "outputId": "38a65a00-e4e5-47b2-b548-8fcd47684881"
      },
      "source": [
        "max_label_len = 0\n",
        "\n",
        "char_list = \"!\\\"#&'()*+,-./0123456789:;?ABCDEFGHIJKLMNOPQRSTUVWXYZabcdefghijklmnopqrstuvwxyz\"\n",
        "\n",
        "# string.ascii_letters + string.digits (Chars & Digits)\n",
        "# or\n",
        "# \"!\\\"#&'()*+,-./0123456789:;?ABCDEFGHIJKLMNOPQRSTUVWXYZabcdefghijklmnopqrstuvwxyz\"\n",
        "\n",
        "print(char_list, len(char_list))\n",
        "\n",
        "def encode_to_labels(txt):\n",
        "    # encoding each output word into digits\n",
        "    dig_lst = []\n",
        "    for index, chara in enumerate(txt):\n",
        "        dig_lst.append(char_list.index(chara))\n",
        "\n",
        "    return dig_lst"
      ],
      "execution_count": 17,
      "outputs": [
        {
          "output_type": "stream",
          "name": "stdout",
          "text": [
            "!\"#&'()*+,-./0123456789:;?ABCDEFGHIJKLMNOPQRSTUVWXYZabcdefghijklmnopqrstuvwxyz 78\n"
          ]
        }
      ]
    },
    {
      "cell_type": "code",
      "metadata": {
        "id": "x6q0wTkWb80c"
      },
      "source": [
        "images = []\n",
        "labels = []\n",
        "\n",
        "RECORDS_COUNT = 10000"
      ],
      "execution_count": 18,
      "outputs": []
    },
    {
      "cell_type": "code",
      "metadata": {
        "id": "izEFf6b6b80f"
      },
      "source": [
        "train_images = []\n",
        "train_labels = []\n",
        "train_input_length = []\n",
        "train_label_length = []\n",
        "train_original_text = []\n",
        "\n",
        "valid_images = []\n",
        "valid_labels = []\n",
        "valid_input_length = []\n",
        "valid_label_length = []\n",
        "valid_original_text = []\n",
        "\n",
        "inputs_length = []\n",
        "labels_length = []"
      ],
      "execution_count": 19,
      "outputs": []
    },
    {
      "cell_type": "code",
      "metadata": {
        "id": "gKDSej8Rb80i"
      },
      "source": [
        "def process_image(img):\n",
        "    \"\"\"\n",
        "    Converts image to shape (32, 128, 1) & normalize\n",
        "    \"\"\"\n",
        "    w, h = img.shape\n",
        "\n",
        "    # Aspect Ratio Calculation\n",
        "    new_w = 32\n",
        "    new_h = int(h * (new_w / w))\n",
        "    img = cv2.resize(img, (new_h, new_w))\n",
        "    w, h = img.shape\n",
        "\n",
        "    img = img.astype('float32')\n",
        "\n",
        "    # Converts each to (32, 128, 1)\n",
        "    if w < 32:\n",
        "        add_zeros = np.full((32-w, h), 255)\n",
        "        img = np.concatenate((img, add_zeros))\n",
        "        w, h = img.shape\n",
        "\n",
        "    if h < 128:\n",
        "        add_zeros = np.full((w, 128-h), 255)\n",
        "        img = np.concatenate((img, add_zeros), axis=1)\n",
        "        w, h = img.shape\n",
        "\n",
        "    if h > 128 or w > 32:\n",
        "        dim = (128,32)\n",
        "        img = cv2.resize(img, dim)\n",
        "\n",
        "    img = cv2.subtract(255, img)\n",
        "\n",
        "    img = np.expand_dims(img, axis=2)\n",
        "\n",
        "    # Normalize\n",
        "    img = img / 255\n",
        "\n",
        "    return img"
      ],
      "execution_count": 20,
      "outputs": []
    },
    {
      "cell_type": "markdown",
      "metadata": {
        "id": "2a39I9BYb80l"
      },
      "source": [
        "## Generate train & validation set"
      ]
    },
    {
      "cell_type": "code",
      "metadata": {
        "id": "NVJTjU8Fb80l"
      },
      "source": [
        "for index, line in enumerate(lines):\n",
        "    splits = line.split(' ')\n",
        "    status = splits[1]\n",
        "\n",
        "    if status == 'ok':\n",
        "        word_id = splits[0]\n",
        "        word = \"\".join(splits[8:])\n",
        "\n",
        "        splits_id = word_id.split('-')\n",
        "        filepath = 'words/{}/{}-{}/{}.png'.format(splits_id[0],\n",
        "                                                  splits_id[0],\n",
        "                                                  splits_id[1],\n",
        "                                                  word_id)\n",
        "\n",
        "        # process image\n",
        "        img = cv2.imread(filepath, cv2.IMREAD_GRAYSCALE)\n",
        "        try:\n",
        "            img = process_image(img)\n",
        "        except:\n",
        "            continue\n",
        "\n",
        "        # process label\n",
        "        try:\n",
        "            label = encode_to_labels(word)\n",
        "        except:\n",
        "            continue\n",
        "\n",
        "        if index % 10 == 0:\n",
        "            valid_images.append(img)\n",
        "            valid_labels.append(label)\n",
        "            valid_input_length.append(31)\n",
        "            valid_label_length.append(len(word))\n",
        "            valid_original_text.append(word)\n",
        "        else:\n",
        "            train_images.append(img)\n",
        "            train_labels.append(label)\n",
        "            train_input_length.append(31)\n",
        "            train_label_length.append(len(word))\n",
        "            train_original_text.append(word)\n",
        "\n",
        "        if len(word) > max_label_len:\n",
        "            max_label_len = len(word)\n",
        "\n",
        "    if index >= RECORDS_COUNT:\n",
        "        break"
      ],
      "execution_count": 21,
      "outputs": []
    },
    {
      "cell_type": "code",
      "metadata": {
        "id": "e14RpPddb80o"
      },
      "source": [
        "train_padded_label = pad_sequences(train_labels,\n",
        "                             maxlen=max_label_len,\n",
        "                             padding='post',\n",
        "                             value=len(char_list))\n",
        "\n",
        "valid_padded_label = pad_sequences(valid_labels,\n",
        "                             maxlen=max_label_len,\n",
        "                             padding='post',\n",
        "                             value=len(char_list))"
      ],
      "execution_count": 22,
      "outputs": []
    },
    {
      "cell_type": "code",
      "metadata": {
        "id": "mOtisXqKb80r",
        "colab": {
          "base_uri": "https://localhost:8080/"
        },
        "outputId": "8c3cf99c-1162-44ad-fe54-8129eb478792"
      },
      "source": [
        "train_padded_label.shape, valid_padded_label.shape"
      ],
      "execution_count": 23,
      "outputs": [
        {
          "output_type": "execute_result",
          "data": {
            "text/plain": [
              "((7850, 16), (876, 16))"
            ]
          },
          "metadata": {},
          "execution_count": 23
        }
      ]
    },
    {
      "cell_type": "markdown",
      "metadata": {
        "id": "JinMiIIQb80u"
      },
      "source": [
        "## Converts to Numpy array"
      ]
    },
    {
      "cell_type": "code",
      "metadata": {
        "id": "g9_fnXbqb80u"
      },
      "source": [
        "train_images = np.asarray(train_images)\n",
        "train_input_length = np.asarray(train_input_length)\n",
        "train_label_length = np.asarray(train_label_length)\n",
        "\n",
        "valid_images = np.asarray(valid_images)\n",
        "valid_input_length = np.asarray(valid_input_length)\n",
        "valid_label_length = np.asarray(valid_label_length)"
      ],
      "execution_count": 24,
      "outputs": []
    },
    {
      "cell_type": "code",
      "metadata": {
        "id": "c96dWZE-b80x",
        "colab": {
          "base_uri": "https://localhost:8080/"
        },
        "outputId": "320bc98d-bb4c-4364-8ed3-e42fcb3b9bd0"
      },
      "source": [
        "train_images.shape"
      ],
      "execution_count": 25,
      "outputs": [
        {
          "output_type": "execute_result",
          "data": {
            "text/plain": [
              "(7850, 32, 128, 1)"
            ]
          },
          "metadata": {},
          "execution_count": 25
        }
      ]
    },
    {
      "cell_type": "markdown",
      "metadata": {
        "id": "NycFjnOhb800"
      },
      "source": [
        "## Build Model\n",
        "Convolutional Recurrent Neural Network"
      ]
    },
    {
      "cell_type": "code",
      "metadata": {
        "id": "iyZnA6smb800"
      },
      "source": [
        "def create_model():\n",
        "  # input with shape of height=32 and width=128\n",
        "  inputs = Input(shape=(32,128,1))\n",
        "\n",
        "  # convolution layer with kernel size (3,3)\n",
        "  conv_1 = Conv2D(64, (3,3), activation = 'relu', padding='same')(inputs)\n",
        "  # poolig layer with kernel size (2,2)\n",
        "  pool_1 = MaxPool2D(pool_size=(2, 2), strides=2)(conv_1)\n",
        "\n",
        "  conv_2 = Conv2D(128, (3,3), activation = 'relu', padding='same')(pool_1)\n",
        "  pool_2 = MaxPool2D(pool_size=(2, 2), strides=2)(conv_2)\n",
        "\n",
        "  conv_3 = Conv2D(256, (3,3), activation = 'relu', padding='same')(pool_2)\n",
        "\n",
        "  conv_4 = Conv2D(256, (3,3), activation = 'relu', padding='same')(conv_3)\n",
        "  # poolig layer with kernel size (2,1)\n",
        "  pool_4 = MaxPool2D(pool_size=(2, 1))(conv_4)\n",
        "\n",
        "  conv_5 = Conv2D(512, (3,3), activation = 'relu', padding='same')(pool_4)\n",
        "  # Batch normalization layer\n",
        "  batch_norm_5 = BatchNormalization()(conv_5)\n",
        "\n",
        "  conv_6 = Conv2D(512, (3,3), activation = 'relu', padding='same')(batch_norm_5)\n",
        "  batch_norm_6 = BatchNormalization()(conv_6)\n",
        "  pool_6 = MaxPool2D(pool_size=(2, 1))(batch_norm_6)\n",
        "\n",
        "  conv_7 = Conv2D(512, (2,2), activation = 'relu')(pool_6)\n",
        "\n",
        "  squeezed = Lambda(lambda x: tf.keras.backend.squeeze(x, 1))(conv_7)\n",
        "\n",
        "  # bidirectional LSTM layers with units=128\n",
        "  blstm_1 = Bidirectional(LSTM(256, return_sequences=True, dropout = 0.2))(squeezed)\n",
        "  blstm_2 = Bidirectional(LSTM(256, return_sequences=True, dropout = 0.2))(blstm_1)\n",
        "\n",
        "  outputs = Dense(len(char_list)+1, activation = 'softmax')(blstm_2)\n",
        "\n",
        "  return tf.keras.Sequential([inputs, conv_1, pool_1, conv_2, pool_2, conv_3, conv_4, pool_4, conv_5, batch_norm_5, conv_6,batch_norm_6, pool_6, conv_7, blstm_1, blstm_2, outputs])\n",
        "  # model = Model(inputs=[inputs, the_labels, input_length, label_length], outputs=loss_out)\n",
        "  # return model\n",
        "\n",
        "  # model to be used at test time\n",
        "  # act_model = Model(inputs, outputs)"
      ],
      "execution_count": 26,
      "outputs": []
    },
    {
      "cell_type": "code",
      "metadata": {
        "id": "cKxiz7hob803"
      },
      "source": [
        "# act_model.summary()"
      ],
      "execution_count": 28,
      "outputs": []
    },
    {
      "cell_type": "code",
      "source": [
        "batch_size = 8\n",
        "epochs = 10\n",
        "e = str(epochs)\n",
        "optimizer_name = 'adam'"
      ],
      "metadata": {
        "id": "S47k1q8_hTqb"
      },
      "execution_count": 31,
      "outputs": []
    },
    {
      "cell_type": "code",
      "metadata": {
        "id": "9M-IV9hFb806"
      },
      "source": [
        "with strategy.scope():\n",
        "  # input with shape of height=32 and width=128\n",
        "  inputs = Input(shape=(32,128,1))\n",
        "\n",
        "  # convolution layer with kernel size (3,3)\n",
        "  conv_1 = Conv2D(64, (3,3), activation = 'relu', padding='same')(inputs)\n",
        "  # poolig layer with kernel size (2,2)\n",
        "  pool_1 = MaxPool2D(pool_size=(2, 2), strides=2)(conv_1)\n",
        "\n",
        "  conv_2 = Conv2D(128, (3,3), activation = 'relu', padding='same')(pool_1)\n",
        "  pool_2 = MaxPool2D(pool_size=(2, 2), strides=2)(conv_2)\n",
        "\n",
        "  conv_3 = Conv2D(256, (3,3), activation = 'relu', padding='same')(pool_2)\n",
        "\n",
        "  conv_4 = Conv2D(256, (3,3), activation = 'relu', padding='same')(conv_3)\n",
        "  # poolig layer with kernel size (2,1)\n",
        "  pool_4 = MaxPool2D(pool_size=(2, 1))(conv_4)\n",
        "\n",
        "  conv_5 = Conv2D(512, (3,3), activation = 'relu', padding='same')(pool_4)\n",
        "  # Batch normalization layer\n",
        "  batch_norm_5 = BatchNormalization()(conv_5)\n",
        "\n",
        "  conv_6 = Conv2D(512, (3,3), activation = 'relu', padding='same')(batch_norm_5)\n",
        "  batch_norm_6 = BatchNormalization()(conv_6)\n",
        "  pool_6 = MaxPool2D(pool_size=(2, 1))(batch_norm_6)\n",
        "\n",
        "  conv_7 = Conv2D(512, (2,2), activation = 'relu')(pool_6)\n",
        "\n",
        "  squeezed = Lambda(lambda x: tf.keras.backend.squeeze(x, 1))(conv_7)\n",
        "\n",
        "  # bidirectional LSTM layers with units=128\n",
        "  blstm_1 = Bidirectional(LSTM(256, return_sequences=True, dropout = 0.2))(squeezed)\n",
        "  blstm_2 = Bidirectional(LSTM(256, return_sequences=True, dropout = 0.2))(blstm_1)\n",
        "\n",
        "  outputs = Dense(len(char_list)+1, activation = 'softmax')(blstm_2)\n",
        "\n",
        "  the_labels = Input(name='the_labels', shape=[max_label_len], dtype='float32')\n",
        "  input_length = Input(name='input_length', shape=[1], dtype='int64')\n",
        "  label_length = Input(name='label_length', shape=[1], dtype='int64')\n",
        "\n",
        "  def ctc_lambda_func(args):\n",
        "      y_pred, labels, input_length, label_length = args\n",
        "      y_pred = y_pred[:, 2:, :]\n",
        "\n",
        "      return K.ctc_batch_cost(labels, y_pred, input_length, label_length)\n",
        "\n",
        "  loss_out = Lambda(ctc_lambda_func, output_shape=(1,), name='ctc')([outputs, the_labels, input_length, label_length])\n",
        "\n",
        "  #model to be used at training time\n",
        "  model = Model(inputs=[inputs, the_labels, input_length, label_length], outputs=loss_out)\n",
        "  # model = create_model()\n",
        "  model.compile(loss={'ctc': lambda y_true, y_pred: y_pred}, optimizer = optimizer_name, metrics=['accuracy'])\n",
        "  filepath=\"{}o-{}r-{}e-{}t-{}v.hdf5\".format(optimizer_name,\n",
        "                                          str(RECORDS_COUNT),\n",
        "                                          str(epochs),\n",
        "                                          str(train_images.shape[0]),\n",
        "                                          str(valid_images.shape[0]))\n",
        "\n",
        "  checkpoint = ModelCheckpoint(filepath=filepath, monitor='val_loss', verbose=1, save_best_only=True, mode='auto')\n",
        "  callbacks_list = [checkpoint]"
      ],
      "execution_count": 32,
      "outputs": []
    },
    {
      "cell_type": "code",
      "metadata": {
        "id": "nyCjQ6ZSb809"
      },
      "source": [
        "# batch_size = 8\n",
        "# epochs = 10\n",
        "# e = str(epochs)\n",
        "# optimizer_name = 'adam'"
      ],
      "execution_count": 33,
      "outputs": []
    },
    {
      "cell_type": "code",
      "metadata": {
        "id": "Sn6qGwCfb81A"
      },
      "source": [
        "# model.compile(loss={'ctc': lambda y_true, y_pred: y_pred}, optimizer = optimizer_name, metrics=['accuracy'])\n",
        "\n",
        "# filepath=\"{}o-{}r-{}e-{}t-{}v.hdf5\".format(optimizer_name,\n",
        "#                                           str(RECORDS_COUNT),\n",
        "#                                           str(epochs),\n",
        "#                                           str(train_images.shape[0]),\n",
        "#                                           str(valid_images.shape[0]))\n",
        "\n",
        "# checkpoint = ModelCheckpoint(filepath=filepath, monitor='val_loss', verbose=1, save_best_only=True, mode='auto')\n",
        "# callbacks_list = [checkpoint]"
      ],
      "execution_count": 34,
      "outputs": []
    },
    {
      "cell_type": "code",
      "metadata": {
        "id": "qw8mB2aDb81C"
      },
      "source": [
        "os.environ['TF_FORCE_GPU_ALLOW_GROWTH'] = 'true'"
      ],
      "execution_count": 35,
      "outputs": []
    },
    {
      "cell_type": "code",
      "metadata": {
        "id": "Q1gl1qm2b81F",
        "colab": {
          "base_uri": "https://localhost:8080/"
        },
        "outputId": "7faa45e3-a029-4082-90be-2e1f0bde6510"
      },
      "source": [
        "history = model.fit(x=[train_images, train_padded_label, train_input_length, train_label_length],\n",
        "                    y=np.zeros(len(train_images)),\n",
        "                    batch_size=batch_size,\n",
        "                    epochs=epochs,\n",
        "                    validation_data=([valid_images, valid_padded_label, valid_input_length, valid_label_length], [np.zeros(len(valid_images))]),\n",
        "                    verbose=1,callbacks=callbacks_list)"
      ],
      "execution_count": null,
      "outputs": [
        {
          "output_type": "stream",
          "name": "stdout",
          "text": [
            "Epoch 1/10\n"
          ]
        }
      ]
    },
    {
      "cell_type": "markdown",
      "metadata": {
        "id": "T7jdGMxSSy6V"
      },
      "source": [
        "## Training Accuracy"
      ]
    },
    {
      "cell_type": "code",
      "metadata": {
        "id": "yQfMakVLb81L"
      },
      "source": [
        "# predict outputs on validation images\n",
        "prediction = act_model.predict(train_images[150:170])\n",
        "\n",
        "# use CTC decoder\n",
        "decoded = K.ctc_decode(prediction,\n",
        "                       input_length=np.ones(prediction.shape[0]) * prediction.shape[1],\n",
        "                       greedy=True)[0][0]\n",
        "\n",
        "out = K.get_value(decoded)\n",
        "\n",
        "# see the results\n",
        "for i, x in enumerate(out):\n",
        "    print(\"original_text =  \", train_original_text[150+i])\n",
        "    print(\"predicted text = \", end = '')\n",
        "    for p in x:\n",
        "        if int(p) != -1:\n",
        "            print(char_list[int(p)], end = '')\n",
        "    plt.imshow(train_images[150+i].reshape(32,128), cmap=plt.cm.gray)\n",
        "    plt.show()\n",
        "    print('\\n')"
      ],
      "execution_count": null,
      "outputs": []
    },
    {
      "cell_type": "code",
      "metadata": {
        "id": "tPSPwWvib81N"
      },
      "source": [
        "# plot accuracy and loss\n",
        "def plotgraph(epochs, acc, val_acc):\n",
        "    # Plot training & validation accuracy values\n",
        "    plt.plot(epochs, acc, 'b')\n",
        "    plt.plot(epochs, val_acc, 'r')\n",
        "    plt.title('Model accuracy')\n",
        "    plt.ylabel('Accuracy')\n",
        "    plt.xlabel('Epoch')\n",
        "    plt.legend(['Train', 'Val'], loc='upper left')\n",
        "    plt.show()"
      ],
      "execution_count": null,
      "outputs": []
    },
    {
      "cell_type": "code",
      "metadata": {
        "id": "Ugrd9WUqb81Q"
      },
      "source": [
        "acc = history.history['accuracy']\n",
        "val_acc = history.history['val_accuracy']\n",
        "loss = history.history['loss']\n",
        "val_loss = history.history['val_loss']\n",
        "epochs = range(1,len(loss)+1)"
      ],
      "execution_count": null,
      "outputs": []
    },
    {
      "cell_type": "code",
      "metadata": {
        "id": "-6EN51dkb81V"
      },
      "source": [
        "plotgraph(epochs, loss, val_loss)"
      ],
      "execution_count": null,
      "outputs": []
    },
    {
      "cell_type": "code",
      "metadata": {
        "id": "6vj0CuIab81X"
      },
      "source": [
        "plotgraph(epochs, acc, val_acc)"
      ],
      "execution_count": null,
      "outputs": []
    }
  ]
}